{
 "cells": [
  {
   "cell_type": "markdown",
   "metadata": {},
   "source": [
    "# Challenge Overview\n",
    "In this challenge, the `requests` dataset contains information about the requests made by group of individuals (or family) to the french emergency housing public service. A sample of the `requests` dataset corresponds to a unique request.\n",
    "\n",
    "The data contains about 480k samples (with data related to requests, groups and individuals). The number of nights is only known for a subset of requests (the learning base). Your objective is to predict the number of nights for the requests of the test dataset. The goal is to predict the categorical variable `granted_number_of_nights` which represents the number of nights of emergency housing granted to a group. You can train your model on the `train_requests`, the predictions should be made for requests listed in the `test_requests` dataset.\n",
    "\n",
    "The target represents a categorized number of nights that the person or group will stay in an emergency structure:\n",
    "```\n",
    "    0: the person or group won’t be granted a solution or has refused it\n",
    "    1: 1 or 2 nights\n",
    "    2: between 3 nights (included) and 1 month\n",
    "    3: more than 1 month\n",
    "```\n",
    "\n",
    "The evaluation metric is given by the `competition_scorer` defined above. It corresponds to a weighted log-loss with weights 1, 10, 100, or 1000 if the `granted_number_of_nights` takes the value 0, 1, 2, or 3 respectively. Thus beware that you will be penalized harder for classification mistakes made on the higher labels.\n",
    "\n",
    "Good luck!\n",
    "\n"
   ]
  },
  {
   "cell_type": "code",
   "execution_count": 1,
   "metadata": {},
   "outputs": [],
   "source": [
    "import pandas as pd\n",
    "import numpy as np\n",
    "import datetime\n",
    "\n",
    "from sklearn.preprocessing import LabelEncoder\n",
    "from sklearn.metrics import log_loss\n",
    "from sklearn.model_selection import train_test_split\n",
    "from lightgbm import LGBMClassifier\n",
    "\n",
    "np.random.seed(1337)"
   ]
  },
  {
   "cell_type": "markdown",
   "metadata": {},
   "source": [
    "## 1) Load data"
   ]
  },
  {
   "cell_type": "code",
   "execution_count": 2,
   "metadata": {},
   "outputs": [
    {
     "name": "stderr",
     "output_type": "stream",
     "text": [
      "b'Skipping line 31303: expected 24 fields, saw 49\\nSkipping line 75954: expected 24 fields, saw 49\\n'\n"
     ]
    }
   ],
   "source": [
    "# Load training set\n",
    "# set request_id as index\n",
    "train = pd.read_csv(filepath_or_buffer='data/train_requests.csv',\n",
    "                    sep=',', low_memory=False, error_bad_lines=False,\n",
    "                    index_col=0)\n",
    "\n",
    "# Load testing set\n",
    "# set request_id as index\n",
    "# note: testing set does not have the column \"granted_number_of_nights\"\n",
    "test = pd.read_csv(filepath_or_buffer='data/test_requests.csv',\n",
    "                   sep=',', low_memory=False, error_bad_lines=False,\n",
    "                   index_col=0)\n",
    "\n",
    "# Rename \"granted_number_of_nights\" to \"target\"\n",
    "train = train.rename(columns={'granted_number_of_nights': 'target'})\n",
    "\n",
    "# Create target column in testing set before (train + test) concatenation\n",
    "test['target'] = np.nan\n",
    "\n",
    "# Create train/test variable before (train + test) concatenation\n",
    "train['training'] = 1\n",
    "test['training'] = 0"
   ]
  },
  {
   "cell_type": "code",
   "execution_count": null,
   "metadata": {},
   "outputs": [],
   "source": []
  },
  {
   "cell_type": "markdown",
   "metadata": {},
   "source": [
    "## 2) Quick exploratory analysis of the training set"
   ]
  },
  {
   "cell_type": "code",
   "execution_count": 3,
   "metadata": {},
   "outputs": [
    {
     "data": {
      "text/plain": [
       "array([1, 2, 0, 3])"
      ]
     },
     "execution_count": 3,
     "metadata": {},
     "output_type": "execute_result"
    }
   ],
   "source": [
    "# chech unique labels in target\n",
    "train[\"target\"].unique()"
   ]
  },
  {
   "cell_type": "code",
   "execution_count": 4,
   "metadata": {},
   "outputs": [
    {
     "data": {
      "text/plain": [
       "0    0.489499\n",
       "1    0.343257\n",
       "2    0.156463\n",
       "3    0.010781\n",
       "Name: target, dtype: float64"
      ]
     },
     "execution_count": 4,
     "metadata": {},
     "output_type": "execute_result"
    }
   ],
   "source": [
    "# normalized counts of the target labels\n",
    "train['target'].value_counts(normalize=True)"
   ]
  },
  {
   "cell_type": "code",
   "execution_count": 5,
   "metadata": {},
   "outputs": [
    {
     "data": {
      "text/plain": [
       "0    145743\n",
       "1    102201\n",
       "2     46585\n",
       "3      3210\n",
       "Name: target, dtype: int64"
      ]
     },
     "execution_count": 5,
     "metadata": {},
     "output_type": "execute_result"
    }
   ],
   "source": [
    "# absolute counts of the labels\n",
    "train['target'].value_counts()"
   ]
  },
  {
   "cell_type": "code",
   "execution_count": 6,
   "metadata": {},
   "outputs": [
    {
     "data": {
      "text/plain": [
       "<AxesSubplot:ylabel='Frequency'>"
      ]
     },
     "execution_count": 6,
     "metadata": {},
     "output_type": "execute_result"
    },
    {
     "data": {
      "image/png": "[encoded data removed]",
      "text/plain": [
       "<Figure size 432x288 with 1 Axes>"
      ]
     },
     "metadata": {
      "needs_background": "light"
     },
     "output_type": "display_data"
    }
   ],
   "source": [
    "train['target'].plot.hist()"
   ]
  },
  {
   "cell_type": "code",
   "execution_count": 7,
   "metadata": {
    "scrolled": false
   },
   "outputs": [
    {
     "data": {
      "text/plain": [
       "animal_presence                       2\n",
       "answer_creation_date             277562\n",
       "child_situation                       8\n",
       "child_to_come                         2\n",
       "district                            102\n",
       "target                                4\n",
       "group_composition_id                 13\n",
       "group_composition_label              12\n",
       "group_creation_date               61766\n",
       "group_id                          63140\n",
       "group_main_requester_id           60950\n",
       "group_type                            2\n",
       "housing_situation_id                 22\n",
       "housing_situation_label              21\n",
       "long_term_housing_request             2\n",
       "number_of_underage                   13\n",
       "request_backoffice_creator_id      1088\n",
       "request_creation_date            277725\n",
       "requester_type                        3\n",
       "social_situation_id               63112\n",
       "town                               1168\n",
       "victim_of_violence                    2\n",
       "victim_of_violence_type               6\n",
       "training                              1\n",
       "dtype: int64"
      ]
     },
     "execution_count": 7,
     "metadata": {},
     "output_type": "execute_result"
    }
   ],
   "source": [
    "# number of unique values in each variables\n",
    "train.nunique()"
   ]
  },
  {
   "cell_type": "code",
   "execution_count": 8,
   "metadata": {},
   "outputs": [
    {
     "name": "stdout",
     "output_type": "stream",
     "text": [
      "(297739, 24)\n"
     ]
    }
   ],
   "source": [
    "# training set size\n",
    "print(train.shape)"
   ]
  },
  {
   "cell_type": "code",
   "execution_count": 9,
   "metadata": {},
   "outputs": [
    {
     "name": "stdout",
     "output_type": "stream",
     "text": [
      "(74189, 24)\n"
     ]
    }
   ],
   "source": [
    "# testing set size\n",
    "print(test.shape)"
   ]
  },
  {
   "cell_type": "code",
   "execution_count": 10,
   "metadata": {},
   "outputs": [
    {
     "data": {
      "text/html": [
       "<div>\n",
       "<style scoped>\n",
       "    .dataframe tbody tr th:only-of-type {\n",
       "        vertical-align: middle;\n",
       "    }\n",
       "\n",
       "    .dataframe tbody tr th {\n",
       "        vertical-align: top;\n",
       "    }\n",
       "\n",
       "    .dataframe thead th {\n",
       "        text-align: right;\n",
       "    }\n",
       "</style>\n",
       "<table border=\"1\" class=\"dataframe\">\n",
       "  <thead>\n",
       "    <tr style=\"text-align: right;\">\n",
       "      <th></th>\n",
       "      <th>animal_presence</th>\n",
       "      <th>answer_creation_date</th>\n",
       "      <th>child_to_come</th>\n",
       "      <th>group_composition_label</th>\n",
       "      <th>group_creation_date</th>\n",
       "      <th>group_id</th>\n",
       "      <th>group_main_requester_id</th>\n",
       "      <th>group_type</th>\n",
       "      <th>housing_situation_label</th>\n",
       "      <th>long_term_housing_request</th>\n",
       "      <th>request_backoffice_creator_id</th>\n",
       "      <th>request_creation_date</th>\n",
       "      <th>requester_type</th>\n",
       "      <th>social_situation_id</th>\n",
       "      <th>town</th>\n",
       "      <th>victim_of_violence</th>\n",
       "      <th>victim_of_violence_type</th>\n",
       "    </tr>\n",
       "  </thead>\n",
       "  <tbody>\n",
       "    <tr>\n",
       "      <th>count</th>\n",
       "      <td>297739</td>\n",
       "      <td>297739</td>\n",
       "      <td>115453</td>\n",
       "      <td>297738</td>\n",
       "      <td>297738</td>\n",
       "      <td>297739</td>\n",
       "      <td>297739</td>\n",
       "      <td>297738</td>\n",
       "      <td>276802</td>\n",
       "      <td>90926</td>\n",
       "      <td>297739</td>\n",
       "      <td>297739</td>\n",
       "      <td>297739</td>\n",
       "      <td>297739</td>\n",
       "      <td>98051</td>\n",
       "      <td>297738</td>\n",
       "      <td>4984</td>\n",
       "    </tr>\n",
       "    <tr>\n",
       "      <th>unique</th>\n",
       "      <td>2</td>\n",
       "      <td>277562</td>\n",
       "      <td>2</td>\n",
       "      <td>12</td>\n",
       "      <td>61766</td>\n",
       "      <td>63140</td>\n",
       "      <td>60950</td>\n",
       "      <td>2</td>\n",
       "      <td>21</td>\n",
       "      <td>2</td>\n",
       "      <td>1088</td>\n",
       "      <td>277725</td>\n",
       "      <td>3</td>\n",
       "      <td>63112</td>\n",
       "      <td>1168</td>\n",
       "      <td>2</td>\n",
       "      <td>6</td>\n",
       "    </tr>\n",
       "    <tr>\n",
       "      <th>top</th>\n",
       "      <td>f</td>\n",
       "      <td>2019-01-01 07:00:00</td>\n",
       "      <td>f</td>\n",
       "      <td>man alone</td>\n",
       "      <td>2017-07-17 00:00:00.000</td>\n",
       "      <td>26ea416385179d96f07aaca883dfeb19</td>\n",
       "      <td>19f587b018a6410be66712171d654a11</td>\n",
       "      <td>individual</td>\n",
       "      <td>street</td>\n",
       "      <td>f</td>\n",
       "      <td>7c1f3fa2eb9a8779c8e83441317acb3d</td>\n",
       "      <td>2019-01-01 07:00:00</td>\n",
       "      <td>user</td>\n",
       "      <td>2b5e0d51245ed6c5d4b57edaef2b8392</td>\n",
       "      <td>Saint-Étienne</td>\n",
       "      <td>f</td>\n",
       "      <td>woman</td>\n",
       "    </tr>\n",
       "    <tr>\n",
       "      <th>freq</th>\n",
       "      <td>296908</td>\n",
       "      <td>92</td>\n",
       "      <td>107529</td>\n",
       "      <td>163208</td>\n",
       "      <td>151</td>\n",
       "      <td>81</td>\n",
       "      <td>81</td>\n",
       "      <td>213882</td>\n",
       "      <td>127315</td>\n",
       "      <td>75630</td>\n",
       "      <td>3567</td>\n",
       "      <td>92</td>\n",
       "      <td>293409</td>\n",
       "      <td>266</td>\n",
       "      <td>5734</td>\n",
       "      <td>292382</td>\n",
       "      <td>2700</td>\n",
       "    </tr>\n",
       "  </tbody>\n",
       "</table>\n",
       "</div>"
      ],
      "text/plain": [
       "       animal_presence answer_creation_date child_to_come  \\\n",
       "count           297739               297739        115453   \n",
       "unique               2               277562             2   \n",
       "top                  f  2019-01-01 07:00:00             f   \n",
       "freq            296908                   92        107529   \n",
       "\n",
       "       group_composition_label      group_creation_date  \\\n",
       "count                   297738                   297738   \n",
       "unique                      12                    61766   \n",
       "top                  man alone  2017-07-17 00:00:00.000   \n",
       "freq                    163208                      151   \n",
       "\n",
       "                                group_id           group_main_requester_id  \\\n",
       "count                             297739                            297739   \n",
       "unique                             63140                             60950   \n",
       "top     26ea416385179d96f07aaca883dfeb19  19f587b018a6410be66712171d654a11   \n",
       "freq                                  81                                81   \n",
       "\n",
       "        group_type housing_situation_label long_term_housing_request  \\\n",
       "count       297738                  276802                     90926   \n",
       "unique           2                      21                         2   \n",
       "top     individual                  street                         f   \n",
       "freq        213882                  127315                     75630   \n",
       "\n",
       "           request_backoffice_creator_id request_creation_date requester_type  \\\n",
       "count                             297739                297739         297739   \n",
       "unique                              1088                277725              3   \n",
       "top     7c1f3fa2eb9a8779c8e83441317acb3d   2019-01-01 07:00:00           user   \n",
       "freq                                3567                    92         293409   \n",
       "\n",
       "                     social_situation_id           town victim_of_violence  \\\n",
       "count                             297739          98051             297738   \n",
       "unique                             63112           1168                  2   \n",
       "top     2b5e0d51245ed6c5d4b57edaef2b8392  Saint-Étienne                  f   \n",
       "freq                                 266           5734             292382   \n",
       "\n",
       "       victim_of_violence_type  \n",
       "count                     4984  \n",
       "unique                       6  \n",
       "top                      woman  \n",
       "freq                      2700  "
      ]
     },
     "execution_count": 10,
     "metadata": {},
     "output_type": "execute_result"
    }
   ],
   "source": [
    "# check object and boolean variables\n",
    "train.describe(include=['object', 'bool'])"
   ]
  },
  {
   "cell_type": "code",
   "execution_count": 11,
   "metadata": {},
   "outputs": [
    {
     "data": {
      "text/html": [
       "<div>\n",
       "<style scoped>\n",
       "    .dataframe tbody tr th:only-of-type {\n",
       "        vertical-align: middle;\n",
       "    }\n",
       "\n",
       "    .dataframe tbody tr th {\n",
       "        vertical-align: top;\n",
       "    }\n",
       "\n",
       "    .dataframe thead th {\n",
       "        text-align: right;\n",
       "    }\n",
       "</style>\n",
       "<table border=\"1\" class=\"dataframe\">\n",
       "  <thead>\n",
       "    <tr style=\"text-align: right;\">\n",
       "      <th></th>\n",
       "      <th>child_situation</th>\n",
       "      <th>district</th>\n",
       "      <th>target</th>\n",
       "      <th>group_composition_id</th>\n",
       "      <th>housing_situation_id</th>\n",
       "      <th>number_of_underage</th>\n",
       "      <th>training</th>\n",
       "    </tr>\n",
       "  </thead>\n",
       "  <tbody>\n",
       "    <tr>\n",
       "      <th>count</th>\n",
       "      <td>297739.000000</td>\n",
       "      <td>297739.000000</td>\n",
       "      <td>297739.000000</td>\n",
       "      <td>297739.000000</td>\n",
       "      <td>297739.000000</td>\n",
       "      <td>297739.000000</td>\n",
       "      <td>297739.0</td>\n",
       "    </tr>\n",
       "    <tr>\n",
       "      <th>mean</th>\n",
       "      <td>-0.321184</td>\n",
       "      <td>7045.224250</td>\n",
       "      <td>0.688526</td>\n",
       "      <td>27.908198</td>\n",
       "      <td>121.964304</td>\n",
       "      <td>-0.575531</td>\n",
       "      <td>1.0</td>\n",
       "    </tr>\n",
       "    <tr>\n",
       "      <th>std</th>\n",
       "      <td>4.089209</td>\n",
       "      <td>46442.365582</td>\n",
       "      <td>0.769463</td>\n",
       "      <td>28.870664</td>\n",
       "      <td>83.231413</td>\n",
       "      <td>0.859217</td>\n",
       "      <td>0.0</td>\n",
       "    </tr>\n",
       "    <tr>\n",
       "      <th>min</th>\n",
       "      <td>-1.000000</td>\n",
       "      <td>1.000000</td>\n",
       "      <td>0.000000</td>\n",
       "      <td>-1.000000</td>\n",
       "      <td>10.000000</td>\n",
       "      <td>-1.000000</td>\n",
       "      <td>1.0</td>\n",
       "    </tr>\n",
       "    <tr>\n",
       "      <th>25%</th>\n",
       "      <td>-1.000000</td>\n",
       "      <td>35.000000</td>\n",
       "      <td>0.000000</td>\n",
       "      <td>10.000000</td>\n",
       "      <td>10.000000</td>\n",
       "      <td>-1.000000</td>\n",
       "      <td>1.0</td>\n",
       "    </tr>\n",
       "    <tr>\n",
       "      <th>50%</th>\n",
       "      <td>-1.000000</td>\n",
       "      <td>61.000000</td>\n",
       "      <td>1.000000</td>\n",
       "      <td>10.000000</td>\n",
       "      <td>170.000000</td>\n",
       "      <td>-1.000000</td>\n",
       "      <td>1.0</td>\n",
       "    </tr>\n",
       "    <tr>\n",
       "      <th>75%</th>\n",
       "      <td>-1.000000</td>\n",
       "      <td>81.000000</td>\n",
       "      <td>1.000000</td>\n",
       "      <td>40.000000</td>\n",
       "      <td>200.000000</td>\n",
       "      <td>0.000000</td>\n",
       "      <td>1.0</td>\n",
       "    </tr>\n",
       "    <tr>\n",
       "      <th>max</th>\n",
       "      <td>70.000000</td>\n",
       "      <td>315842.000000</td>\n",
       "      <td>3.000000</td>\n",
       "      <td>120.000000</td>\n",
       "      <td>220.000000</td>\n",
       "      <td>14.000000</td>\n",
       "      <td>1.0</td>\n",
       "    </tr>\n",
       "  </tbody>\n",
       "</table>\n",
       "</div>"
      ],
      "text/plain": [
       "       child_situation       district         target  group_composition_id  \\\n",
       "count    297739.000000  297739.000000  297739.000000         297739.000000   \n",
       "mean         -0.321184    7045.224250       0.688526             27.908198   \n",
       "std           4.089209   46442.365582       0.769463             28.870664   \n",
       "min          -1.000000       1.000000       0.000000             -1.000000   \n",
       "25%          -1.000000      35.000000       0.000000             10.000000   \n",
       "50%          -1.000000      61.000000       1.000000             10.000000   \n",
       "75%          -1.000000      81.000000       1.000000             40.000000   \n",
       "max          70.000000  315842.000000       3.000000            120.000000   \n",
       "\n",
       "       housing_situation_id  number_of_underage  training  \n",
       "count         297739.000000       297739.000000  297739.0  \n",
       "mean             121.964304           -0.575531       1.0  \n",
       "std               83.231413            0.859217       0.0  \n",
       "min               10.000000           -1.000000       1.0  \n",
       "25%               10.000000           -1.000000       1.0  \n",
       "50%              170.000000           -1.000000       1.0  \n",
       "75%              200.000000            0.000000       1.0  \n",
       "max              220.000000           14.000000       1.0  "
      ]
     },
     "execution_count": 11,
     "metadata": {},
     "output_type": "execute_result"
    }
   ],
   "source": [
    "# check integers and float variables\n",
    "train.describe(include=['int', 'float'])"
   ]
  },
  {
   "cell_type": "code",
   "execution_count": null,
   "metadata": {},
   "outputs": [],
   "source": []
  },
  {
   "cell_type": "markdown",
   "metadata": {},
   "source": [
    "## 3) Feature engineering\n",
    "A single LightGBM model with strong feature engineering on categorical variables and dates:\n",
    "\n",
    "**The 2 keys to the challenge were as follows:**\n",
    "\n",
    "Key 1: correctly optimize the loss function. The loss function was a bit tricky in this challenge:"
   ]
  },
  {
   "cell_type": "code",
   "execution_count": 12,
   "metadata": {},
   "outputs": [
    {
     "data": {
      "image/png": "[encoded data removed]",
      "text/plain": [
       "<IPython.core.display.Image object>"
      ]
     },
     "execution_count": 12,
     "metadata": {},
     "output_type": "execute_result"
    }
   ],
   "source": [
    "from IPython.display import Image\n",
    "Image(filename='./data/loss_function.png') "
   ]
  },
  {
   "cell_type": "markdown",
   "metadata": {},
   "source": [
    "In English terms, it means that errors on category 3 are much more penalizing (10^3) than errors on category 0. Ignoring this loss function and optimizing the log-loss was therefore doomed to failure, no matter how good your feature engineering was. The simplest way to optimize the loss function is to optimize the log loss by weighting your samples. LightGBM allows you to assign a weight to each of your sample in the fit function:\n",
    "\n",
    "```\n",
    "lgb.fit(X, y, sample_weight=10**y)\n",
    "```\n",
    "\n",
    "Another way to optimize this loss function was to code a custom loss function and to feed it to LightGBM but it would have taken longer for the exact same result."
   ]
  },
  {
   "cell_type": "markdown",
   "metadata": {},
   "source": [
    "Key 2: manage categorical variables well. Most of the predictive signal was present in the categorical variables, especially those with many modalities (group_id, group_main_requester_id, housing_situation_id, etc.). I used 3 tricks to create useful variables derived from these categorical variables:\n",
    "- Label Encoding\n",
    "- Value Count\n",
    "- Target Encoding"
   ]
  },
  {
   "cell_type": "code",
   "execution_count": 13,
   "metadata": {},
   "outputs": [],
   "source": [
    "# concatenation train+test\n",
    "df = pd.concat((train[train.columns], test[train.columns]), axis=0)"
   ]
  },
  {
   "cell_type": "code",
   "execution_count": 14,
   "metadata": {},
   "outputs": [
    {
     "data": {
      "text/plain": [
       "(371928, 24)"
      ]
     },
     "execution_count": 14,
     "metadata": {},
     "output_type": "execute_result"
    }
   ],
   "source": [
    "df.shape"
   ]
  },
  {
   "cell_type": "code",
   "execution_count": 15,
   "metadata": {
    "scrolled": false
   },
   "outputs": [
    {
     "data": {
      "text/html": [
       "<div>\n",
       "<style scoped>\n",
       "    .dataframe tbody tr th:only-of-type {\n",
       "        vertical-align: middle;\n",
       "    }\n",
       "\n",
       "    .dataframe tbody tr th {\n",
       "        vertical-align: top;\n",
       "    }\n",
       "\n",
       "    .dataframe thead th {\n",
       "        text-align: right;\n",
       "    }\n",
       "</style>\n",
       "<table border=\"1\" class=\"dataframe\">\n",
       "  <thead>\n",
       "    <tr style=\"text-align: right;\">\n",
       "      <th></th>\n",
       "      <th>Nulls</th>\n",
       "      <th>count</th>\n",
       "    </tr>\n",
       "  </thead>\n",
       "  <tbody>\n",
       "    <tr>\n",
       "      <th>child_to_come</th>\n",
       "      <td>227871</td>\n",
       "      <td>NaN</td>\n",
       "    </tr>\n",
       "    <tr>\n",
       "      <th>target</th>\n",
       "      <td>74189</td>\n",
       "      <td>297739.0</td>\n",
       "    </tr>\n",
       "    <tr>\n",
       "      <th>group_composition_label</th>\n",
       "      <td>1</td>\n",
       "      <td>NaN</td>\n",
       "    </tr>\n",
       "    <tr>\n",
       "      <th>group_creation_date</th>\n",
       "      <td>1</td>\n",
       "      <td>NaN</td>\n",
       "    </tr>\n",
       "    <tr>\n",
       "      <th>group_type</th>\n",
       "      <td>1</td>\n",
       "      <td>NaN</td>\n",
       "    </tr>\n",
       "    <tr>\n",
       "      <th>housing_situation_label</th>\n",
       "      <td>26181</td>\n",
       "      <td>NaN</td>\n",
       "    </tr>\n",
       "    <tr>\n",
       "      <th>long_term_housing_request</th>\n",
       "      <td>258347</td>\n",
       "      <td>NaN</td>\n",
       "    </tr>\n",
       "    <tr>\n",
       "      <th>town</th>\n",
       "      <td>249517</td>\n",
       "      <td>NaN</td>\n",
       "    </tr>\n",
       "    <tr>\n",
       "      <th>victim_of_violence</th>\n",
       "      <td>1</td>\n",
       "      <td>NaN</td>\n",
       "    </tr>\n",
       "    <tr>\n",
       "      <th>victim_of_violence_type</th>\n",
       "      <td>365700</td>\n",
       "      <td>NaN</td>\n",
       "    </tr>\n",
       "  </tbody>\n",
       "</table>\n",
       "</div>"
      ],
      "text/plain": [
       "                            Nulls     count\n",
       "child_to_come              227871       NaN\n",
       "target                      74189  297739.0\n",
       "group_composition_label         1       NaN\n",
       "group_creation_date             1       NaN\n",
       "group_type                      1       NaN\n",
       "housing_situation_label     26181       NaN\n",
       "long_term_housing_request  258347       NaN\n",
       "town                       249517       NaN\n",
       "victim_of_violence              1       NaN\n",
       "victim_of_violence_type    365700       NaN"
      ]
     },
     "execution_count": 15,
     "metadata": {},
     "output_type": "execute_result"
    }
   ],
   "source": [
    "# to see the number of null data in each variables\n",
    "desc = df.describe()  # Returns a DataFrame with stats in the row index\n",
    "combo = pd.concat([df.isna().sum(),desc.T],axis=1).set_axis(['Nulls']+list(desc.index),axis=1,inplace=False)\n",
    "\n",
    "combo = combo[[\"Nulls\",\"count\"]]\n",
    "combo = combo[combo[\"Nulls\"] > 0]\n",
    "combo"
   ]
  },
  {
   "cell_type": "code",
   "execution_count": 16,
   "metadata": {},
   "outputs": [],
   "source": [
    "# categorical features: skip all variables with _creation_date and the int64 variables, except for district\n",
    "categorical_features = ['animal_presence',\n",
    "                        'child_to_come', # 227871 null\n",
    "                        'group_composition_label', # 1 null\n",
    "                        'group_id',\n",
    "                        'group_main_requester_id',\n",
    "                        'group_type', # 1 null\n",
    "                        'housing_situation_label', # 26181 null\n",
    "                        'long_term_housing_request', # 258347 null\n",
    "                        'request_backoffice_creator_id',\n",
    "                        'requester_type',\n",
    "                        'social_situation_id',\n",
    "                        'town', # 249517 null\n",
    "                        'victim_of_violence', # 1 null\n",
    "                        'victim_of_violence_type', # 365700 null\n",
    "                        'district']"
   ]
  },
  {
   "cell_type": "code",
   "execution_count": null,
   "metadata": {},
   "outputs": [],
   "source": []
  },
  {
   "cell_type": "markdown",
   "metadata": {},
   "source": [
    "### 3a) Label encoding\n",
    "Encode each category to a single number, it seems counter-intuitive but tree-based models (like LightGBM) manage to pull predictive signal from these kind of variables. \n",
    "```\n",
    "Eg. \n",
    "- nan/false/true -> -1/0/2\n",
    "- 2 categories -> 0, 1\n",
    "- 3 categories -> 0, 1, 2\n",
    "- 6 categories -> 0, 1, 2, 3, 5, 6\n",
    "```"
   ]
  },
  {
   "cell_type": "code",
   "execution_count": 17,
   "metadata": {
    "scrolled": true
   },
   "outputs": [],
   "source": [
    "# label encoding\n",
    "# note: fit_transform will throw error if the column contains nan\n",
    "for var in categorical_features:\n",
    "    encoder = LabelEncoder()\n",
    "    \n",
    "    # set column to string type\n",
    "    df[var] = df[var].astype(str)\n",
    "    \n",
    "    df['le_{}'.format(var)] = encoder.fit_transform(df[var])    \n",
    "    df.loc[df[var] == 'nan', 'le_{}'.format(var)] = -1"
   ]
  },
  {
   "cell_type": "code",
   "execution_count": null,
   "metadata": {},
   "outputs": [],
   "source": []
  },
  {
   "cell_type": "markdown",
   "metadata": {},
   "source": [
    "### 3b) Label encoding\n",
    "Another way to extract information from a categorical variables, just count the number of occurance for each unique category value (inclusive of counting number of nan values).\n",
    "\n",
    "```\n",
    "Eg. \n",
    "370913 True/1015 False -> 370913/1015\n",
    "9841 True/134216 False/227871 NaN -> 9841/134216/227871\n",
    "```"
   ]
  },
  {
   "cell_type": "code",
   "execution_count": 21,
   "metadata": {},
   "outputs": [],
   "source": [
    "# value counts\n",
    "for var in categorical_features:\n",
    "    mapping_vc = df[var].value_counts()\n",
    "    df['vc_{}'.format(var)] = df[var].map(mapping_vc)"
   ]
  },
  {
   "cell_type": "code",
   "execution_count": null,
   "metadata": {},
   "outputs": [],
   "source": []
  },
  {
   "cell_type": "markdown",
   "metadata": {},
   "source": [
    "### 3c) Date features\n",
    "Extract day of the datetime, week of the datetime, month, year, hour (0-23) and weekday (0-6)"
   ]
  },
  {
   "cell_type": "code",
   "execution_count": 23,
   "metadata": {
    "scrolled": true
   },
   "outputs": [],
   "source": [
    "# date features\n",
    "def create_date_features(df, column):\n",
    "    df[column] = pd.to_datetime(df[column])\n",
    "    df['day_{}'.format(column)] = df[column].dt.day\n",
    "    df['week_{}'.format(column)] = df[column].dt.isocalendar().week\n",
    "    df['month_{}'.format(column)] = df[column].dt.month\n",
    "    df['year_{}'.format(column)] = df[column].dt.year\n",
    "    df['hour_{}'.format(column)] = df[column].dt.hour\n",
    "    df['weekday_{}'.format(column)] = df[column].dt.weekday\n",
    "    #df['numeric_{}'.format(column)] = df[column].astype(np.int64) * 1e-9\n",
    "    return df\n",
    "\n",
    "# note: group_creation_date = 1 null data, will throw error to .astype(np.int64)\n",
    "for date_col in ['answer_creation_date',\n",
    "                 'group_creation_date',\n",
    "                 'request_creation_date']:\n",
    "    df[date_col] = create_date_features(df, date_col)\n",
    "    df.drop(date_col, axis=1, inplace=True)\n"
   ]
  },
  {
   "cell_type": "code",
   "execution_count": null,
   "metadata": {},
   "outputs": [],
   "source": []
  },
  {
   "cell_type": "markdown",
   "metadata": {},
   "source": [
    "### 3d) Target encoding\n",
    "The process of computing the mean of the target variable for each modality of the categorical variable."
   ]
  },
  {
   "cell_type": "code",
   "execution_count": 25,
   "metadata": {},
   "outputs": [],
   "source": [
    "# target encoding\n",
    "def target_encoding(df, grp_col, target_col, n_folds=10):\n",
    "    df['fold'] = np.random.randint(n_folds, size=len(df))\n",
    "    df_te = pd.DataFrame()\n",
    "    for fold in df['fold'].unique():\n",
    "        df_fold = df[df['fold'] != fold].groupby(grp_col)[target_col].agg(['mean', 'count'])\n",
    "        df_fold['fold'] = fold\n",
    "        df_te = df_te.append(df_fold.reset_index())\n",
    "    df_te.rename(columns={'mean': 'te_mean_{}'.format('_'.join(grp_col)),\n",
    "                          'count': 'te_count_{}'.format('_'.join(grp_col))},\n",
    "                 inplace=True)\n",
    "    df = pd.merge(df, df_te, how='left')\n",
    "    df.drop('fold', axis=1, inplace=True)\n",
    "    return df\n",
    "\n",
    "te_grp_cols = [['group_id'],\n",
    "               ['group_main_requester_id'],\n",
    "               ['request_backoffice_creator_id'],\n",
    "               ['social_situation_id'],\n",
    "               ['housing_situation_id'],\n",
    "               ['district'],\n",
    "               ['town'],\n",
    "               ['social_situation_id', 'group_main_requester_id'],\n",
    "               ['social_situation_id', 'group_id'],\n",
    "               ['social_situation_id', 'request_backoffice_creator_id'],\n",
    "               ['group_main_requester_id', 'group_id'],\n",
    "               ['group_main_requester_id', 'request_backoffice_creator_id'],\n",
    "               ['group_id', 'request_backoffice_creator_id'],\n",
    "               ['social_situation_id', 'housing_situation_id'],\n",
    "               ['group_main_requester_id', 'housing_situation_id'],\n",
    "               ['group_id', 'housing_situation_id'],\n",
    "               ['request_backoffice_creator_id', 'housing_situation_id']]\n",
    "\n",
    "for grp_col in te_grp_cols:\n",
    "    df = target_encoding(df=df, grp_col=grp_col, target_col='target', n_folds=10)"
   ]
  },
  {
   "cell_type": "code",
   "execution_count": null,
   "metadata": {},
   "outputs": [],
   "source": []
  },
  {
   "cell_type": "markdown",
   "metadata": {},
   "source": [
    "## 4) Data Modeling\n",
    "### 4a) Create X & X_test"
   ]
  },
  {
   "cell_type": "code",
   "execution_count": 16,
   "metadata": {},
   "outputs": [],
   "source": [
    "dtypes = df.dtypes.map(str)\n",
    "numerical_features = list(dtypes[dtypes.isin(['int64','float64'])].index)\n",
    "X_full = df[numerical_features].copy()\n",
    "\n",
    "X = X_full[X_full['training'] == 1].copy()\n",
    "X_test = X_full[X_full['training'] == 0].copy()\n",
    "y = X_full[X_full['training'] == 1]['target']\n",
    "\n",
    "X.drop(['target', 'training'], axis=1, inplace=True)\n",
    "X_test.drop(['target', 'training'], axis=1, inplace=True)"
   ]
  },
  {
   "cell_type": "code",
   "execution_count": null,
   "metadata": {},
   "outputs": [],
   "source": []
  },
  {
   "cell_type": "markdown",
   "metadata": {},
   "source": [
    "### 4b) Fit the model"
   ]
  },
  {
   "cell_type": "code",
   "execution_count": 17,
   "metadata": {},
   "outputs": [
    {
     "name": "stdout",
     "output_type": "stream",
     "text": [
      "[LightGBM] [Warning] num_threads is set with nthread=8, will be overridden by n_jobs=-1. Current value: num_threads=-1\n"
     ]
    },
    {
     "data": {
      "text/plain": [
       "LGBMClassifier(colsample_bytree=0.3, learning_rate=0.03, min_child_samples=10,\n",
       "               n_estimators=400, nthread=8, num_leaves=45, objective='logloss',\n",
       "               subsample_freq=1)"
      ]
     },
     "execution_count": 17,
     "metadata": {},
     "output_type": "execute_result"
    }
   ],
   "source": [
    "lgb = LGBMClassifier(nthread=8,\n",
    "                     objective='logloss',\n",
    "                     n_estimators=400,\n",
    "                     num_leaves=45,\n",
    "                     learning_rate=0.03,\n",
    "                     subsample=1.0,\n",
    "                     subsample_freq=1,\n",
    "                     colsample_bytree=0.3,\n",
    "                     min_child_samples=10)\n",
    "\n",
    "lgb.fit(X, y, sample_weight=10**y)"
   ]
  },
  {
   "cell_type": "code",
   "execution_count": null,
   "metadata": {},
   "outputs": [],
   "source": []
  },
  {
   "cell_type": "markdown",
   "metadata": {},
   "source": [
    "## 5) Predict and Submit"
   ]
  },
  {
   "cell_type": "code",
   "execution_count": 18,
   "metadata": {},
   "outputs": [],
   "source": [
    "preds = lgb.predict_proba(X_test)\n",
    "\n",
    "df_pred = pd.concat([pd.DataFrame(test.index),\n",
    "                     pd.DataFrame(preds)],\n",
    "                    axis=1)"
   ]
  },
  {
   "cell_type": "code",
   "execution_count": 19,
   "metadata": {},
   "outputs": [],
   "source": [
    "df_pred.to_csv('data/submit.csv', index=False)"
   ]
  },
  {
   "cell_type": "code",
   "execution_count": null,
   "metadata": {},
   "outputs": [],
   "source": []
  }
 ],
 "metadata": {
  "kernelspec": {
   "display_name": "Python 3",
   "language": "python",
   "name": "python3"
  },
  "language_info": {
   "codemirror_mode": {
    "name": "ipython",
    "version": 3
   },
   "file_extension": ".py",
   "mimetype": "text/x-python",
   "name": "python",
   "nbconvert_exporter": "python",
   "pygments_lexer": "ipython3",
   "version": "3.8.8"
  }
 },
 "nbformat": 4,
 "nbformat_minor": 4
}
